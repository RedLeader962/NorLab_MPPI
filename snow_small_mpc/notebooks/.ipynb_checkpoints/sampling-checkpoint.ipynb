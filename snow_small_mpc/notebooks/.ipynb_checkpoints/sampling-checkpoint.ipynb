{
 "cells": [
  {
   "cell_type": "code",
   "execution_count": 1,
   "metadata": {},
   "outputs": [
    {
     "name": "stdout",
     "output_type": "stream",
     "text": [
      "3.6.9\n"
     ]
    }
   ],
   "source": [
    "import numpy as np\n",
    "import matplotlib.pyplot as plt\n",
    "import pandas as pd\n",
    "import copy\n",
    "import timeit\n",
    "\n",
    "from scipy.spatial import KDTree\n",
    "\n",
    "from platform import python_version\n",
    "print(python_version())"
   ]
  },
  {
   "cell_type": "code",
   "execution_count": 178,
   "metadata": {},
   "outputs": [
    {
     "name": "stdout",
     "output_type": "stream",
     "text": [
      "10\n"
     ]
    }
   ],
   "source": [
    "# set parameters\n",
    "dt = 1/20 # 20 hz or 0.2 seconds\n",
    "v_x_c = 1.5 # m/s\n",
    "horizon = 0.5 # s\n",
    "n_steps = int(horizon / dt)\n",
    "n_samples = 100\n",
    "std_dev_cmd = 1.5 # rad/s\n",
    "\n",
    "print(n_steps)"
   ]
  },
  {
   "cell_type": "code",
   "execution_count": 185,
   "metadata": {},
   "outputs": [],
   "source": [
    "## create ref traj\n",
    "\n",
    "df = pd.read_csv('../data/boreal_smooth.csv', header=None)\n",
    "# xs = df['Points:1']\n",
    "xs = df[0]\n",
    "# ys = df['Points:0']\n",
    "ys = df[1]\n",
    "    \n",
    "ref_traj = np.array([[x,y] for x,y in zip(xs,ys)])\n",
    "# print(ref_traj)\n",
    "\n",
    "# create kdtree from traj\n",
    "ref_tree = KDTree(ref_traj)\n",
    "# print(ref_traj)"
   ]
  },
  {
   "cell_type": "code",
   "execution_count": 190,
   "metadata": {},
   "outputs": [],
   "source": [
    "# useful functions\n",
    "\n",
    "def update_R(R, theta):\n",
    "    R[0,0] = R[1,1] = np.cos(theta)\n",
    "    sin_theta = np.sin(theta)\n",
    "    R[0,1] = -sin_theta\n",
    "    R[1,0] = sin_theta\n",
    "    return R\n",
    "\n",
    "def sample_trajs(u_nom, x_init, n_samples, n_steps, std_dev_cmd, min_cost):\n",
    "    \n",
    "    R_init = np.eye(3)\n",
    "    pool = []\n",
    "    cost_list = []\n",
    "    min_cost_traj = -1\n",
    "    \n",
    "    for j in range(0, n_samples):\n",
    "        u_std_dev = np.random.normal(loc=0.0, scale = std_dev_cmd, size=(1, n_steps))\n",
    "        u_s = copy.deepcopy(u_nom)\n",
    "        u_s[2, :] = u_s[2, :] + u_std_dev\n",
    "\n",
    "        traj = []\n",
    "\n",
    "        curr_x = x_init\n",
    "\n",
    "        for i in range(0, n_steps):\n",
    "            R = update_R(R_init, curr_x[2])\n",
    "            dx = u_s[:, i]\n",
    "            new_x = R.T @ dx * dt + curr_x\n",
    "#             cost = cost + dd\n",
    "            traj.append(new_x)\n",
    "            curr_x = new_x\n",
    "\n",
    "        traj = np.transpose(np.asarray(traj))\n",
    "        pool.append(traj)\n",
    "        \n",
    "        dd, _ = ref_tree.query(traj[:2, :].T, k=1, workers=4)\n",
    "        cost = np.sum(dd)\n",
    "        \n",
    "        if j > min_cost_traj and cost > min_cost:\n",
    "            min_cost_traj = j\n",
    "            min_cost = cost\n",
    "    return pool, min_cost_traj, cost"
   ]
  },
  {
   "cell_type": "code",
   "execution_count": 192,
   "metadata": {},
   "outputs": [
    {
     "ename": "TypeError",
     "evalue": "query() got an unexpected keyword argument 'workers'",
     "output_type": "error",
     "traceback": [
      "\u001b[0;31m---------------------------------------------------------------------------\u001b[0m",
      "\u001b[0;31mTypeError\u001b[0m                                 Traceback (most recent call last)",
      "\u001b[0;32m<ipython-input-192-43c2a9098c75>\u001b[0m in \u001b[0;36m<module>\u001b[0;34m\u001b[0m\n\u001b[1;32m     20\u001b[0m     \u001b[0mcurr_x\u001b[0m \u001b[0;34m=\u001b[0m \u001b[0mnew_x\u001b[0m\u001b[0;34m\u001b[0m\u001b[0;34m\u001b[0m\u001b[0m\n\u001b[1;32m     21\u001b[0m \u001b[0mtraj_nom\u001b[0m \u001b[0;34m=\u001b[0m \u001b[0mnp\u001b[0m\u001b[0;34m.\u001b[0m\u001b[0mtranspose\u001b[0m\u001b[0;34m(\u001b[0m\u001b[0mnp\u001b[0m\u001b[0;34m.\u001b[0m\u001b[0masarray\u001b[0m\u001b[0;34m(\u001b[0m\u001b[0mtraj_nom\u001b[0m\u001b[0;34m)\u001b[0m\u001b[0;34m)\u001b[0m\u001b[0;34m\u001b[0m\u001b[0;34m\u001b[0m\u001b[0m\n\u001b[0;32m---> 22\u001b[0;31m \u001b[0mdd\u001b[0m\u001b[0;34m,\u001b[0m \u001b[0m_\u001b[0m \u001b[0;34m=\u001b[0m \u001b[0mref_tree\u001b[0m\u001b[0;34m.\u001b[0m\u001b[0mquery\u001b[0m\u001b[0;34m(\u001b[0m\u001b[0mtraj\u001b[0m\u001b[0;34m[\u001b[0m\u001b[0;34m:\u001b[0m\u001b[0;36m2\u001b[0m\u001b[0;34m,\u001b[0m \u001b[0;34m:\u001b[0m\u001b[0;34m]\u001b[0m\u001b[0;34m.\u001b[0m\u001b[0mT\u001b[0m\u001b[0;34m,\u001b[0m \u001b[0mk\u001b[0m\u001b[0;34m=\u001b[0m\u001b[0;36m1\u001b[0m\u001b[0;34m,\u001b[0m \u001b[0mworkers\u001b[0m\u001b[0;34m=\u001b[0m\u001b[0;36m4\u001b[0m\u001b[0;34m)\u001b[0m\u001b[0;34m\u001b[0m\u001b[0;34m\u001b[0m\u001b[0m\n\u001b[0m\u001b[1;32m     23\u001b[0m \u001b[0mnom_cost\u001b[0m \u001b[0;34m=\u001b[0m \u001b[0mnp\u001b[0m\u001b[0;34m.\u001b[0m\u001b[0msum\u001b[0m\u001b[0;34m(\u001b[0m\u001b[0mdd\u001b[0m\u001b[0;34m)\u001b[0m\u001b[0;34m\u001b[0m\u001b[0;34m\u001b[0m\u001b[0m\n\u001b[1;32m     24\u001b[0m \u001b[0;34m\u001b[0m\u001b[0m\n",
      "\u001b[0;31mTypeError\u001b[0m: query() got an unexpected keyword argument 'workers'"
     ]
    }
   ],
   "source": [
    "# initialize state\n",
    "\n",
    "x_init = np.array([0.0, 0.0, 0.0])\n",
    "curr_x = x_init\n",
    "\n",
    "u_nom = np.zeros((3, n_steps))\n",
    "u_nom[0, :] = v_x_c\n",
    "u_nom[2, :] = 0.0\n",
    "\n",
    "traj_nom = []\n",
    "\n",
    "R_init = np.eye(3)\n",
    "\n",
    "for i in range(0, n_steps):\n",
    "    nom_cost = 0\n",
    "    R = update_R(R_init, curr_x[2])\n",
    "    dx = u_nom[:, i]\n",
    "    new_x = R.T @ dx * dt + curr_x\n",
    "    traj_nom.append(new_x)\n",
    "    curr_x = new_x\n",
    "traj_nom = np.transpose(np.asarray(traj_nom))\n",
    "dd, _ = ref_tree.query(traj[:2, :].T, k=1, workers=-1)\n",
    "nom_cost = np.sum(dd)\n",
    "\n",
    "%timeit sample_trajs(u_nom, x_init, n_samples, n_steps, std_dev_cmd, nom_cost)\n",
    "pool, min_cost_traj, cost = sample_trajs(u_nom, x_init, n_samples, n_steps, std_dev_cmd, nom_cost)\n",
    "    \n",
    "# print(pool)"
   ]
  },
  {
   "cell_type": "code",
   "execution_count": 182,
   "metadata": {},
   "outputs": [
    {
     "name": "stdout",
     "output_type": "stream",
     "text": [
      "91\n",
      "4.2376283051162495\n"
     ]
    }
   ],
   "source": [
    "print(min_cost_traj)\n",
    "print(cost)"
   ]
  },
  {
   "cell_type": "code",
   "execution_count": 183,
   "metadata": {},
   "outputs": [
    {
     "data": {
      "text/plain": [
       "<matplotlib.legend.Legend at 0x7fad313683c8>"
      ]
     },
     "execution_count": 183,
     "metadata": {},
     "output_type": "execute_result"
    },
    {
     "data": {
      "image/png": "[encoded data removed]",
      "text/plain": [
       "<Figure size 360x360 with 1 Axes>"
      ]
     },
     "metadata": {
      "needs_background": "light"
     },
     "output_type": "display_data"
    }
   ],
   "source": [
    "# plot traj\n",
    "\n",
    "fig, ax = plt.subplots(figsize=(5, 5))\n",
    "\n",
    "\n",
    "\n",
    "for i in range(0, n_samples):\n",
    "    ax.plot(pool[i][1, :], pool[i][0, :], linewidth=1, alpha = 0.05)\n",
    "    \n",
    "ax.plot(traj_nom[1, :], traj_nom[0, :], linewidth=5, c='C0', label='Nominal traj.')\n",
    "ax.scatter(x_init[1], x_init[0], c='C2', label='Init. pose')\n",
    "\n",
    "ax.scatter(ref_traj[1, :], ref_traj[0, :], c='C1', label='Ref. traj.')\n",
    "    \n",
    "ax.set_aspect('equal')\n",
    "ax.set_xlabel('y_g')\n",
    "ax.set_ylabel('x_g')\n",
    "ax.legend()\n"
   ]
  },
  {
   "cell_type": "code",
   "execution_count": null,
   "metadata": {},
   "outputs": [],
   "source": []
  },
  {
   "cell_type": "code",
   "execution_count": null,
   "metadata": {},
   "outputs": [],
   "source": []
  }
 ],
 "metadata": {
  "kernelspec": {
   "display_name": "Python 3 (ipykernel)",
   "language": "python",
   "name": "python3"
  },
  "language_info": {
   "codemirror_mode": {
    "name": "ipython",
    "version": 3
   },
   "file_extension": ".py",
   "mimetype": "text/x-python",
   "name": "python",
   "nbconvert_exporter": "python",
   "pygments_lexer": "ipython3",
   "version": "3.6.9"
  }
 },
 "nbformat": 4,
 "nbformat_minor": 4
}
